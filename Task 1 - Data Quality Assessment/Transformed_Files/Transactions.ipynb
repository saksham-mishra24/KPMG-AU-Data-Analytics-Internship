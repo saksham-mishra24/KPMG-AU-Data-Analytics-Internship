{
 "cells": [
  {
   "cell_type": "code",
   "execution_count": 4,
   "metadata": {},
   "outputs": [],
   "source": [
    "#Import libraries\n",
    "import pandas as pd"
   ]
  },
  {
   "cell_type": "code",
   "execution_count": 5,
   "metadata": {},
   "outputs": [],
   "source": [
    "xls = pd.ExcelFile('KPMG_VI_New_raw_data_update_final.xlsx')\n",
    "\n",
    "# pd.ExcelFile: This is a function from the Pandas library that is used to create an ExcelFile object. \n",
    "# 'KPMG_VI_New_raw_data_update_final.xlsx': This is the name of the Excel file you want to work with. \n",
    "# xls = An ExcelFile object named xls that represents the specified Excel file, which you can then use to read data from that file using Pandas functions like pd.read_excel()."
   ]
  },
  {
   "cell_type": "code",
   "execution_count": null,
   "metadata": {},
   "outputs": [],
   "source": [
    "pd3 = pd.read_excel(xls, sheet_name=1, header=0)\n",
    "\n",
    "# pd.read_excel(): This is a Pandas function used for reading data from Excel files.\n",
    "# xls: This is the ExcelFile object that we created earlier using pd.ExcelFile('KPMG_VI_New_raw_data_update_final.xlsx'). It represents the Excel file you want to read from.\n",
    "# sheet_name=1: This specifies which sheet from the Excel file to read. In this case, it's reading the sheet at index 1. Sheet indices in Pandas are zero-based, so index 1 corresponds to the second sheet in the Excel file.\n",
    "# header=0: This specifies the row in the Excel sheet that should be used as the header row. In this case, header=0 indicates that the first row of data in the selected sheet will be used as the column headers in the resulting DataFrame.\n",
    "# So, when you execute the code it reads then stored in a Pandas DataFrame named pd3.\n"
   ]
  },
  {
   "cell_type": "code",
   "execution_count": null,
   "metadata": {},
   "outputs": [],
   "source": [
    "transaction = pd.DataFrame(pd3)\n",
    "\n",
    "# In the code you provided, you are creating a new Pandas DataFrame named transaction and initializing it with the data from the pd3 DataFrame. \n",
    "# Essentially, you are making a copy of the data from pd3 and storing it in a new DataFrame called transaction. Here's the code:\n",
    "# Now, you have a new DataFrame called transaction that contains the same data as pd3. \n",
    "# You can perform various operations and analyses on this DataFrame without affecting the original data in pd3. \n",
    "# This can be useful if you want to keep a separate copy of the data for a specific analysis or transformation."
   ]
  },
  {
   "cell_type": "code",
   "execution_count": 6,
   "metadata": {},
   "outputs": [
    {
     "name": "stdout",
     "output_type": "stream",
     "text": [
      "<class 'pandas.core.frame.DataFrame'>\n",
      "RangeIndex: 20000 entries, 0 to 19999\n",
      "Data columns (total 13 columns):\n",
      " #   Column                   Non-Null Count  Dtype         \n",
      "---  ------                   --------------  -----         \n",
      " 0   transaction_id           20000 non-null  int64         \n",
      " 1   product_id               20000 non-null  int64         \n",
      " 2   customer_id              20000 non-null  int64         \n",
      " 3   transaction_date         20000 non-null  datetime64[ns]\n",
      " 4   online_order             19640 non-null  float64       \n",
      " 5   order_status             20000 non-null  object        \n",
      " 6   brand                    19803 non-null  object        \n",
      " 7   product_line             19803 non-null  object        \n",
      " 8   product_class            19803 non-null  object        \n",
      " 9   product_size             19803 non-null  object        \n",
      " 10  list_price               20000 non-null  float64       \n",
      " 11  standard_cost            19803 non-null  float64       \n",
      " 12  product_first_sold_date  19803 non-null  float64       \n",
      "dtypes: datetime64[ns](1), float64(4), int64(3), object(5)\n",
      "memory usage: 2.0+ MB\n"
     ]
    }
   ],
   "source": [
    "transaction.info()\n",
    "\n",
    "# info() method in Pandas is used to get a concise summary of the DataFrame's information. It provides useful information about the DataFrame, including:\n",
    "\n",
    "#The total number of rows and columns.\n",
    "#The data types of each column.\n",
    "#The number of non-null (non-missing) values in each column.\n",
    "#The memory usage of the DataFrame."
   ]
  },
  {
   "cell_type": "code",
   "execution_count": 8,
   "metadata": {},
   "outputs": [],
   "source": [
    "transaction['transaction_date'] = pd.to_datetime(transaction['transaction_date'],unit='s')\n",
    "\n",
    "# transaction['transaction_date']: This accesses the column named 'transaction_date' in the transaction DataFrame. \n",
    "# pd.to_datetime(): This is a Pandas function used for converting a series of values to datetime objects.\n",
    "# In this case, you are applying it to the 'transaction_date' column.\n",
    "# unit='s': This parameter specifies the unit of the input values in the 'transaction_date' column. \n",
    "# By setting it to 's', you are indicating that the values in the column are in seconds since the Unix epoch (January 1, 1970)."
   ]
  },
  {
   "cell_type": "code",
   "execution_count": 9,
   "metadata": {},
   "outputs": [
    {
     "data": {
      "text/html": [
       "<div>\n",
       "<style scoped>\n",
       "    .dataframe tbody tr th:only-of-type {\n",
       "        vertical-align: middle;\n",
       "    }\n",
       "\n",
       "    .dataframe tbody tr th {\n",
       "        vertical-align: top;\n",
       "    }\n",
       "\n",
       "    .dataframe thead th {\n",
       "        text-align: right;\n",
       "    }\n",
       "</style>\n",
       "<table border=\"1\" class=\"dataframe\">\n",
       "  <thead>\n",
       "    <tr style=\"text-align: right;\">\n",
       "      <th></th>\n",
       "      <th>transaction_id</th>\n",
       "      <th>product_id</th>\n",
       "      <th>customer_id</th>\n",
       "      <th>transaction_date</th>\n",
       "      <th>online_order</th>\n",
       "      <th>order_status</th>\n",
       "      <th>brand</th>\n",
       "      <th>product_line</th>\n",
       "      <th>product_class</th>\n",
       "      <th>product_size</th>\n",
       "      <th>list_price</th>\n",
       "      <th>standard_cost</th>\n",
       "      <th>product_first_sold_date</th>\n",
       "    </tr>\n",
       "  </thead>\n",
       "  <tbody>\n",
       "    <tr>\n",
       "      <th>0</th>\n",
       "      <td>253</td>\n",
       "      <td>2</td>\n",
       "      <td>3123</td>\n",
       "      <td>2017-12-30</td>\n",
       "      <td>0.0</td>\n",
       "      <td>Approved</td>\n",
       "      <td>Giant Bicycles</td>\n",
       "      <td>Road</td>\n",
       "      <td>low</td>\n",
       "      <td>small</td>\n",
       "      <td>590.26</td>\n",
       "      <td>525.33</td>\n",
       "      <td>40487.0</td>\n",
       "    </tr>\n",
       "    <tr>\n",
       "      <th>1</th>\n",
       "      <td>411</td>\n",
       "      <td>62</td>\n",
       "      <td>3355</td>\n",
       "      <td>2017-12-30</td>\n",
       "      <td>0.0</td>\n",
       "      <td>Approved</td>\n",
       "      <td>Solex</td>\n",
       "      <td>Standard</td>\n",
       "      <td>medium</td>\n",
       "      <td>medium</td>\n",
       "      <td>478.16</td>\n",
       "      <td>298.72</td>\n",
       "      <td>34143.0</td>\n",
       "    </tr>\n",
       "    <tr>\n",
       "      <th>2</th>\n",
       "      <td>497</td>\n",
       "      <td>62</td>\n",
       "      <td>1854</td>\n",
       "      <td>2017-12-30</td>\n",
       "      <td>1.0</td>\n",
       "      <td>Approved</td>\n",
       "      <td>Solex</td>\n",
       "      <td>Standard</td>\n",
       "      <td>high</td>\n",
       "      <td>medium</td>\n",
       "      <td>1024.66</td>\n",
       "      <td>614.80</td>\n",
       "      <td>34244.0</td>\n",
       "    </tr>\n",
       "    <tr>\n",
       "      <th>3</th>\n",
       "      <td>606</td>\n",
       "      <td>70</td>\n",
       "      <td>2878</td>\n",
       "      <td>2017-12-30</td>\n",
       "      <td>0.0</td>\n",
       "      <td>Approved</td>\n",
       "      <td>Trek Bicycles</td>\n",
       "      <td>Standard</td>\n",
       "      <td>high</td>\n",
       "      <td>medium</td>\n",
       "      <td>495.72</td>\n",
       "      <td>297.43</td>\n",
       "      <td>36367.0</td>\n",
       "    </tr>\n",
       "    <tr>\n",
       "      <th>4</th>\n",
       "      <td>748</td>\n",
       "      <td>80</td>\n",
       "      <td>2865</td>\n",
       "      <td>2017-12-30</td>\n",
       "      <td>1.0</td>\n",
       "      <td>Approved</td>\n",
       "      <td>Trek Bicycles</td>\n",
       "      <td>Standard</td>\n",
       "      <td>medium</td>\n",
       "      <td>large</td>\n",
       "      <td>1469.44</td>\n",
       "      <td>596.55</td>\n",
       "      <td>41047.0</td>\n",
       "    </tr>\n",
       "  </tbody>\n",
       "</table>\n",
       "</div>"
      ],
      "text/plain": [
       "   transaction_id  product_id  customer_id transaction_date  online_order  \\\n",
       "0             253           2         3123       2017-12-30           0.0   \n",
       "1             411          62         3355       2017-12-30           0.0   \n",
       "2             497          62         1854       2017-12-30           1.0   \n",
       "3             606          70         2878       2017-12-30           0.0   \n",
       "4             748          80         2865       2017-12-30           1.0   \n",
       "\n",
       "  order_status           brand product_line product_class product_size  \\\n",
       "0     Approved  Giant Bicycles         Road           low        small   \n",
       "1     Approved           Solex     Standard        medium       medium   \n",
       "2     Approved           Solex     Standard          high       medium   \n",
       "3     Approved   Trek Bicycles     Standard          high       medium   \n",
       "4     Approved   Trek Bicycles     Standard        medium        large   \n",
       "\n",
       "   list_price  standard_cost  product_first_sold_date  \n",
       "0      590.26         525.33                  40487.0  \n",
       "1      478.16         298.72                  34143.0  \n",
       "2     1024.66         614.80                  34244.0  \n",
       "3      495.72         297.43                  36367.0  \n",
       "4     1469.44         596.55                  41047.0  "
      ]
     },
     "execution_count": 9,
     "metadata": {},
     "output_type": "execute_result"
    }
   ],
   "source": [
    "transaction.head()\n",
    "# head() method is used to display the first 5 rows of the transactions."
   ]
  },
  {
   "cell_type": "code",
   "execution_count": 6,
   "metadata": {},
   "outputs": [],
   "source": [
    "transaction['product_first_sold_date'] = transaction['product_first_sold_date'].fillna(transaction['product_first_sold_date'].mean())\n",
    "\n",
    "# transaction['product_first_sold_date']: This accesses the 'product_first_sold_date' column in the transaction DataFrame.\n",
    "# .fillna(): This is a Pandas function used to fill missing (NaN) values in a DataFrame or Series.\n",
    "# transaction['product_first_sold_date'].mean(): This calculates mean (average) value of the 'product_first_sold_date' column, excluding missing values.\n",
    "# So, when we execute it, it replaces any missing values in the 'product_first_sold_date' column with the mean value of the non-missing dates in that same column.\n",
    "#  This is a common strategy for handling missing data by imputing missing values with a central tendency measure like the mean.\n"
   ]
  },
  {
   "cell_type": "code",
   "execution_count": null,
   "metadata": {},
   "outputs": [],
   "source": [
    "# fill the missing data using the back-fill method\n",
    "transaction['online_order'] = transaction['online_order'].fillna(method='bfill')\n",
    "# fill the missing data using the forward-fill method\n",
    "transaction['brand'] = transaction['brand'].fillna(method='ffill')\n",
    "# fill the missing data using the back-fill method\n",
    "transaction['product_line'] = transaction['product_line'].fillna(method='bfill')\n",
    "# fill the missing data using the back-fill method\n",
    "transaction['product_class'] = transaction['product_class'].fillna(method='bfill')\n",
    "# fill the missing data using the forward-fill method\n",
    "transaction['product_size'] = transaction['product_size'].fillna(method='ffill')"
   ]
  },
  {
   "cell_type": "code",
   "execution_count": 7,
   "metadata": {},
   "outputs": [
    {
     "name": "stderr",
     "output_type": "stream",
     "text": [
      "C:\\Users\\Dell\\AppData\\Local\\Temp\\ipykernel_14060\\2310699434.py:2: FutureWarning: The default value of numeric_only in DataFrame.sum is deprecated. In a future version, it will default to False. In addition, specifying 'numeric_only=None' is deprecated. Select only valid columns or specify the value of numeric_only to silence this warning.\n",
      "  transaction[dups].sum()\n"
     ]
    },
    {
     "data": {
      "text/plain": [
       "transaction_id             0.0\n",
       "product_id                 0.0\n",
       "customer_id                0.0\n",
       "online_order               0.0\n",
       "order_status               0.0\n",
       "brand                      0.0\n",
       "product_line               0.0\n",
       "product_class              0.0\n",
       "product_size               0.0\n",
       "list_price                 0.0\n",
       "standard_cost              0.0\n",
       "product_first_sold_date    0.0\n",
       "dtype: float64"
      ]
     },
     "execution_count": 7,
     "metadata": {},
     "output_type": "execute_result"
    }
   ],
   "source": [
    "dups = transaction.duplicated()\n",
    "transaction[dups].sum()\n",
    "\n",
    "# dups = transaction.duplicated(): This line of code creates a boolean Series named dups using the duplicated() method. \n",
    "# Each element in the Series corresponds to a row in the DataFrame and is True if the row is a duplicate of a previous row, and False otherwise.\n",
    "# transaction[dups]: This line of code filters the transaction DataFrame using the dups boolean Series. \n",
    "# It selects only the rows where dups is True, i.e., the duplicated rows.\n",
    "# .sum(): Finally, it calculates the sum of all values in the DataFrame obtained in the previous step. This effectively sums up all the duplicated rows."
   ]
  },
  {
   "cell_type": "code",
   "execution_count": 8,
   "metadata": {},
   "outputs": [
    {
     "data": {
      "text/plain": [
       "transaction_id               0\n",
       "product_id                   0\n",
       "customer_id                  0\n",
       "transaction_date             0\n",
       "online_order               360\n",
       "order_status                 0\n",
       "brand                      197\n",
       "product_line               197\n",
       "product_class              197\n",
       "product_size               197\n",
       "list_price                   0\n",
       "standard_cost              197\n",
       "product_first_sold_date      0\n",
       "dtype: int64"
      ]
     },
     "execution_count": 8,
     "metadata": {},
     "output_type": "execute_result"
    }
   ],
   "source": [
    "transaction.isnull().sum()\n",
    "\n",
    "# isnull().sum(), is used to count the number of missing (NaN) values in each column of the transaction DataFrame. \n",
    "# When you run transaction.isnull().sum(), you will get a Pandas Series where the index represents the column names of the transaction DataFrame, and the values represent the count of missing values in each respective column. \n",
    "# This is a useful way to quickly assess which columns have missing data and how many missing values they contain."
   ]
  },
  {
   "cell_type": "code",
   "execution_count": 10,
   "metadata": {},
   "outputs": [
    {
     "name": "stdout",
     "output_type": "stream",
     "text": [
      "<class 'pandas.core.frame.DataFrame'>\n",
      "RangeIndex: 20000 entries, 0 to 19999\n",
      "Data columns (total 13 columns):\n",
      " #   Column                   Non-Null Count  Dtype         \n",
      "---  ------                   --------------  -----         \n",
      " 0   transaction_id           20000 non-null  int64         \n",
      " 1   product_id               20000 non-null  int64         \n",
      " 2   customer_id              20000 non-null  int64         \n",
      " 3   transaction_date         20000 non-null  datetime64[ns]\n",
      " 4   online_order             20000 non-null  float64       \n",
      " 5   order_status             20000 non-null  object        \n",
      " 6   brand                    20000 non-null  object        \n",
      " 7   product_line             20000 non-null  object        \n",
      " 8   product_class            20000 non-null  object        \n",
      " 9   product_size             20000 non-null  object        \n",
      " 10  list_price               20000 non-null  float64       \n",
      " 11  standard_cost            19803 non-null  float64       \n",
      " 12  product_first_sold_date  20000 non-null  float64       \n",
      "dtypes: datetime64[ns](1), float64(4), int64(3), object(5)\n",
      "memory usage: 2.0+ MB\n"
     ]
    }
   ],
   "source": [
    "transaction.info()"
   ]
  },
  {
   "cell_type": "code",
   "execution_count": 11,
   "metadata": {},
   "outputs": [],
   "source": [
    "#print to csv file after the cleaning\n",
    "transaction.to_csv('transaction.csv',index=False)\n",
    "# The index=False argument indicates that you don't want to include the index column from the DataFrame in the CSV file."
   ]
  },
  {
   "cell_type": "code",
   "execution_count": null,
   "metadata": {},
   "outputs": [],
   "source": []
  }
 ],
 "metadata": {
  "kernelspec": {
   "display_name": "Python 3",
   "language": "python",
   "name": "python3"
  },
  "language_info": {
   "codemirror_mode": {
    "name": "ipython",
    "version": 3
   },
   "file_extension": ".py",
   "mimetype": "text/x-python",
   "name": "python",
   "nbconvert_exporter": "python",
   "pygments_lexer": "ipython3",
   "version": "3.10.10"
  },
  "orig_nbformat": 4
 },
 "nbformat": 4,
 "nbformat_minor": 2
}
